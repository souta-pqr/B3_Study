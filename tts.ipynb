{
 "cells": [
  {
   "cell_type": "code",
   "execution_count": 1,
   "metadata": {},
   "outputs": [
    {
     "name": "stderr",
     "output_type": "stream",
     "text": [
      "/home/souta-pqr/anaconda3/envs/B3_study/lib/python3.9/site-packages/tqdm/auto.py:21: TqdmWarning: IProgress not found. Please update jupyter and ipywidgets. See https://ipywidgets.readthedocs.io/en/stable/user_install.html\n",
      "  from .autonotebook import tqdm as notebook_tqdm\n",
      "/home/souta-pqr/anaconda3/envs/B3_study/lib/python3.9/site-packages/torch/nn/utils/weight_norm.py:28: UserWarning: torch.nn.utils.weight_norm is deprecated in favor of torch.nn.utils.parametrizations.weight_norm.\n",
      "  warnings.warn(\"torch.nn.utils.weight_norm is deprecated in favor of torch.nn.utils.parametrizations.weight_norm.\")\n",
      "/home/souta-pqr/anaconda3/envs/B3_study/lib/python3.9/site-packages/espnet2/gan_tts/vits/monotonic_align/__init__.py:19: UserWarning: Cython version is not available. Fallback to 'EXPERIMETAL' numba version. If you want to use the cython version, please build it as follows: `cd espnet2/gan_tts/vits/monotonic_align; python setup.py build_ext --inplace`\n",
      "  warnings.warn(\n",
      "WARNING:root:It seems weight norm is not applied in the pretrained model but the current model uses it. To keep the compatibility, we remove the norm from the current model. This may cause unexpected behavior due to the parameter mismatch in finetuning. To avoid this issue, please change the following parameters in config to false:\n",
      " - discriminator_params.follow_official_norm\n",
      " - discriminator_params.scale_discriminator_params.use_weight_norm\n",
      " - discriminator_params.scale_discriminator_params.use_spectral_norm\n",
      "\n",
      "See also:\n",
      " - https://github.com/espnet/espnet/pull/5240\n",
      " - https://github.com/espnet/espnet/pull/5249\n"
     ]
    }
   ],
   "source": [
    "# 事前学習モデルを用いた音声合成\n",
    "from espnet2.bin.tts_inference import Text2Speech\n",
    "\n",
    "# モデル名\n",
    "model_tag = \"kan-bayashi/jsut_full_band_vits_prosody\"\n",
    "vocoder_tag=\"parallel_wavegan/jsut_parallel_wavegan.v1\"\n",
    "\n",
    "# 音声合成器の生成\n",
    "text2speech = Text2Speech.from_pretrained(\n",
    "    model_tag=model_tag,\n",
    "    vocoder_tag=vocoder_tag,\n",
    ")\n",
    "\n",
    "# 音声合成の実行\n",
    "result = text2speech(\n",
    "\t\"あらゆる現実を、全て自分の方へねじ曲げたのだ。\"\n",
    ")\n",
    "\n",
    "# 合成結果のファイルへの保存\n",
    "import soundfile as sf\n",
    "sf.write(\"out.wav\", result[\"wav\"], text2speech.fs, \"PCM_16\")"
   ]
  }
 ],
 "metadata": {
  "kernelspec": {
   "display_name": "B3_study",
   "language": "python",
   "name": "python3"
  },
  "language_info": {
   "codemirror_mode": {
    "name": "ipython",
    "version": 3
   },
   "file_extension": ".py",
   "mimetype": "text/x-python",
   "name": "python",
   "nbconvert_exporter": "python",
   "pygments_lexer": "ipython3",
   "version": "3.9.19"
  }
 },
 "nbformat": 4,
 "nbformat_minor": 2
}
