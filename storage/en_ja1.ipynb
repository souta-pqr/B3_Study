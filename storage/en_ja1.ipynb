{
 "cells": [
  {
   "cell_type": "code",
   "execution_count": 14,
   "metadata": {},
   "outputs": [
    {
     "name": "stdout",
     "output_type": "stream",
     "text": [
      "['わたし は ひとみ の よう に ひとみ を 守 る.']\n"
     ]
    }
   ],
   "source": [
    "import torch\n",
    "from transformers import MarianMTModel, MarianTokenizer\n",
    "from transformers.file_utils import TRANSFORMERS_CACHE\n",
    "\n",
    "# モデルとトークナイザーの準備\n",
    "model_name = 'Helsinki-NLP/opus-mt-en-jap'\n",
    "tokenizer = MarianTokenizer.from_pretrained(model_name, cache_dir=TRANSFORMERS_CACHE, timeout=1000)\n",
    "model = MarianMTModel.from_pretrained(model_name, cache_dir=TRANSFORMERS_CACHE)\n",
    "\n",
    "# 翻訳したい文章\n",
    "sentence = \"I like an apple.\"\n",
    "\n",
    "# 文章をトークナイザーでトークナイズし、モデルが理解できる形式に変換\n",
    "inputs = tokenizer(sentence, return_tensors=\"pt\")\n",
    "\n",
    "# 翻訳の実行\n",
    "translated = model.generate(**inputs)\n",
    "\n",
    "# 翻訳結果の表示\n",
    "tgt_text = [tokenizer.decode(t, skip_special_tokens=True) for t in translated]\n",
    "print(tgt_text)\n"
   ]
  },
  {
   "cell_type": "code",
   "execution_count": 1,
   "metadata": {},
   "outputs": [
    {
     "name": "stdout",
     "output_type": "stream",
     "text": [
      "[{'translation_text': '私の好きな林いのんがおパイレーつじ座'}]\n"
     ]
    }
   ],
   "source": [
    "text = 'I like an apple.'\n",
    "\n",
    "import pysbd\n",
    "seg_en = pysbd.Segmenter(language=\"en\", clean=False)\n",
    "\n",
    "from transformers import pipeline\n",
    "fugu_translator = pipeline('translation', model='staka/fugumt-en-ja')\n",
    "print(fugu_translator(seg_en.segment(text)))"
   ]
  },
  {
   "cell_type": "code",
   "execution_count": 2,
   "metadata": {},
   "outputs": [
    {
     "data": {
      "application/vnd.jupyter.widget-view+json": {
       "model_id": "4560336fdb284e4bb69ae07e947112f7",
       "version_major": 2,
       "version_minor": 0
      },
      "text/plain": [
       "tokenizer_config.json:   0%|          | 0.00/382 [00:00<?, ?B/s]"
      ]
     },
     "metadata": {},
     "output_type": "display_data"
    },
    {
     "data": {
      "application/vnd.jupyter.widget-view+json": {
       "model_id": "4e5fb0484b15435faa4bfc312ad68b32",
       "version_major": 2,
       "version_minor": 0
      },
      "text/plain": [
       "source.spm:   0%|          | 0.00/808k [00:00<?, ?B/s]"
      ]
     },
     "metadata": {},
     "output_type": "display_data"
    },
    {
     "data": {
      "application/vnd.jupyter.widget-view+json": {
       "model_id": "9d6ade96b316429b853061a0f02c39a0",
       "version_major": 2,
       "version_minor": 0
      },
      "text/plain": [
       "target.spm:   0%|          | 0.00/834k [00:00<?, ?B/s]"
      ]
     },
     "metadata": {},
     "output_type": "display_data"
    },
    {
     "data": {
      "application/vnd.jupyter.widget-view+json": {
       "model_id": "9cbfaa3c4b1941efa93bbd69ee5c2d2e",
       "version_major": 2,
       "version_minor": 0
      },
      "text/plain": [
       "vocab.json:   0%|          | 0.00/1.83M [00:00<?, ?B/s]"
      ]
     },
     "metadata": {},
     "output_type": "display_data"
    },
    {
     "data": {
      "application/vnd.jupyter.widget-view+json": {
       "model_id": "3507c4bb56bf49c195cbd0d966e8db19",
       "version_major": 2,
       "version_minor": 0
      },
      "text/plain": [
       "special_tokens_map.json:   0%|          | 0.00/74.0 [00:00<?, ?B/s]"
      ]
     },
     "metadata": {},
     "output_type": "display_data"
    },
    {
     "data": {
      "application/vnd.jupyter.widget-view+json": {
       "model_id": "f8cea7b865cd4fcd8c75b5d44b71d9ef",
       "version_major": 2,
       "version_minor": 0
      },
      "text/plain": [
       "config.json:   0%|          | 0.00/1.11k [00:00<?, ?B/s]"
      ]
     },
     "metadata": {},
     "output_type": "display_data"
    },
    {
     "data": {
      "application/vnd.jupyter.widget-view+json": {
       "model_id": "0b13ff2a48ac4b7fbc871d99b8111a0a",
       "version_major": 2,
       "version_minor": 0
      },
      "text/plain": [
       "pytorch_model.bin:   0%|          | 0.00/310M [00:00<?, ?B/s]"
      ]
     },
     "metadata": {},
     "output_type": "display_data"
    },
    {
     "name": "stdout",
     "output_type": "stream",
     "text": [
      "['アップルが好き。']\n"
     ]
    }
   ],
   "source": [
    "from transformers import MarianMTModel, MarianTokenizer\n",
    "\n",
    "model_name = 'Hoax0930/marian-finetuned-kde4-en-to-ja'\n",
    "tokenizer = MarianTokenizer.from_pretrained(model_name)\n",
    "model = MarianMTModel.from_pretrained(model_name)\n",
    "\n",
    "# 翻訳したい文章\n",
    "sentence = \"I like an apple.\"\n",
    "\n",
    "# 文章をトークナイザーでトークナイズし、モデルが理解できる形式に変換\n",
    "inputs = tokenizer(sentence, return_tensors=\"pt\")\n",
    "\n",
    "# 翻訳の実行\n",
    "translated = model.generate(**inputs)\n",
    "\n",
    "# 翻訳結果の表示\n",
    "tgt_text = [tokenizer.decode(t, skip_special_tokens=True) for t in translated]\n",
    "print(tgt_text)\n"
   ]
  },
  {
   "cell_type": "markdown",
   "metadata": {},
   "source": [
    "# facebookの以下のモデルが最も良い精度だと考えられる．"
   ]
  },
  {
   "cell_type": "code",
   "execution_count": 6,
   "metadata": {},
   "outputs": [
    {
     "name": "stdout",
     "output_type": "stream",
     "text": [
      "['3月19日、日本銀行は世界で最後のマイナス金利政策を廃止し、17年ぶりに金利引き上げを決定した。']\n"
     ]
    }
   ],
   "source": [
    "from transformers import MBartForConditionalGeneration, MBart50TokenizerFast\n",
    "\n",
    "model_name = 'facebook/mbart-large-50-many-to-many-mmt'\n",
    "tokenizer = MBart50TokenizerFast.from_pretrained(model_name)\n",
    "model = MBartForConditionalGeneration.from_pretrained(model_name)\n",
    "\n",
    "# 翻訳したい文章\n",
    "sentence = \"The Bank of Japan on March 19 decided to scrap the world’s last negative rate policy, introducing a rate hike for the first time in 17 years. The historic move follows robust pay increases that have heightened the BOJ’s confidence that a healthy wage-price cycle is taking root in Japan.\"\n",
    "\n",
    "# 文章をトークナイザーでトークナイズし、モデルが理解できる形式に変換\n",
    "inputs = tokenizer(sentence, return_tensors=\"pt\")\n",
    "\n",
    "# 翻訳の実行\n",
    "generated_tokens = model.generate(**inputs, forced_bos_token_id=tokenizer.lang_code_to_id[\"ja_XX\"])\n",
    "translated = tokenizer.batch_decode(generated_tokens, skip_special_tokens=True)\n",
    "\n",
    "print(translated)\n"
   ]
  },
  {
   "cell_type": "code",
   "execution_count": 7,
   "metadata": {},
   "outputs": [
    {
     "name": "stdout",
     "output_type": "stream",
     "text": [
      "日本銀行は3月19日、世界で最後のマイナス金利政策を廃止することを決定し、 過去17年間で初めて賃金が上昇しました。 この歴史的な動きは 日本銀行は、健全な賃金・物価サイクルが日本に根ざしているとの確信を高めました。\n"
     ]
    }
   ],
   "source": [
    "from transformers import MBartForConditionalGeneration, MBart50TokenizerFast\n",
    "import textwrap\n",
    "\n",
    "model_name = 'facebook/mbart-large-50-many-to-many-mmt'\n",
    "tokenizer = MBart50TokenizerFast.from_pretrained(model_name)\n",
    "model = MBartForConditionalGeneration.from_pretrained(model_name)\n",
    "\n",
    "# 翻訳したい文章\n",
    "sentence = \"The Bank of Japan on March 19 decided to scrap the world’s last negative rate policy, introducing a rate hike for the first time in 17 years. The historic move follows robust pay increases that have heightened the BOJ’s confidence that a healthy wage-price cycle is taking root in Japan.\"\n",
    "\n",
    "# 文章を小さな部分に分割\n",
    "sentences = textwrap.wrap(sentence, width=100)\n",
    "\n",
    "translated_sentences = []\n",
    "for sent in sentences:\n",
    "    # 文章をトークナイザーでトークナイズし、モデルが理解できる形式に変換\n",
    "    inputs = tokenizer(sent, return_tensors=\"pt\")\n",
    "\n",
    "    # 翻訳の実行\n",
    "    generated_tokens = model.generate(**inputs, forced_bos_token_id=tokenizer.lang_code_to_id[\"ja_XX\"])\n",
    "    translated = tokenizer.batch_decode(generated_tokens, skip_special_tokens=True)\n",
    "\n",
    "    translated_sentences.append(translated[0])\n",
    "\n",
    "# 翻訳結果の表示\n",
    "print(\" \".join(translated_sentences))\n"
   ]
  }
 ],
 "metadata": {
  "kernelspec": {
   "display_name": "wiki",
   "language": "python",
   "name": "python3"
  },
  "language_info": {
   "codemirror_mode": {
    "name": "ipython",
    "version": 3
   },
   "file_extension": ".py",
   "mimetype": "text/x-python",
   "name": "python",
   "nbconvert_exporter": "python",
   "pygments_lexer": "ipython3",
   "version": "3.10.14"
  }
 },
 "nbformat": 4,
 "nbformat_minor": 2
}
