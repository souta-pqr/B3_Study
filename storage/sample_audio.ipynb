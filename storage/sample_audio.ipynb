{
 "cells": [
  {
   "cell_type": "code",
   "execution_count": 5,
   "metadata": {},
   "outputs": [],
   "source": [
    "import torch\n",
    "from transformers import SpeechT5Processor, SpeechT5ForTextToSpeech\n",
    "\n",
    "# モデルとプロセッサをロード\n",
    "processor = SpeechT5Processor.from_pretrained(\"microsoft/speecht5_tts\")\n",
    "model = SpeechT5ForTextToSpeech.from_pretrained(\"microsoft/speecht5_tts\")\n",
    "\n",
    "# 入力テキストを設定\n",
    "text = \"おはようございます。\"\n",
    "\n",
    "# テキストをトークン化\n",
    "input_ids = processor.tokenizer.encode(text, return_tensors=\"pt\")\n",
    "\n",
    "# ダミーの話者ベクトルを作成\n",
    "speaker_embeddings = torch.zeros(1, 512)\n",
    "\n",
    "# テキストを音声に変換\n",
    "speech = model.generate_speech(input_ids, speaker_embeddings=speaker_embeddings)\n",
    "\n",
    "# 音声をファイルに保存\n",
    "with open(\"output.wav\", \"wb\") as f:\n",
    "    f.write(speech.numpy())"
   ]
  }
 ],
 "metadata": {
  "kernelspec": {
   "display_name": "wiki",
   "language": "python",
   "name": "python3"
  },
  "language_info": {
   "name": "python",
   "version": "3.10.14"
  }
 },
 "nbformat": 4,
 "nbformat_minor": 2
}
