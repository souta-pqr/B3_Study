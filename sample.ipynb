{
 "cells": [
  {
   "cell_type": "code",
   "execution_count": null,
   "metadata": {},
   "outputs": [],
   "source": [
    "# 1. Wikipediaから記事を取得する\n",
    "import wikipedia\n",
    "\n",
    "# 100個の英語のWikipedia記事をランダムに取得する\n",
    "en_wiki_articles = wikipedia.random(pages=100, langlinks=False)"
   ]
  },
  {
   "cell_type": "code",
   "execution_count": null,
   "metadata": {},
   "outputs": [],
   "source": [
    "# 2. 記事を1文ずつに分割する\n",
    "import nltk\n",
    "nltk.download('punkt')\n",
    "from nltk.tokenize import sent_tokenize\n",
    "\n",
    "sentences = []\n",
    "for article in en_wiki_articles:\n",
    "    sentences.extend(sent_tokenize(article))"
   ]
  },
  {
   "cell_type": "code",
   "execution_count": null,
   "metadata": {},
   "outputs": [],
   "source": [
    "\n",
    "# 3. 英語から日本語に翻訳する\n",
    "from transformers import MarianMTModel, MarianTokenizer\n",
    "model_name = \"Helsinki-NLP/opus-mt-en-ja\"\n",
    "tokenizer = MarianTokenizer.from_pretrained(model_name)\n",
    "model = MarianMTModel.from_pretrained(model_name)\n",
    "\n",
    "ja_sentences = []\n",
    "for en_sentence in sentences:\n",
    "    encoded_en = tokenizer.encode(en_sentence, return_tensors=\"pt\")\n",
    "    encoded_ja = model.generate(encoded_en)\n",
    "    ja_sentence = tokenizer.decode(encoded_ja[0], skip_special_tokens=True)\n",
    "    ja_sentences.append(ja_sentence)"
   ]
  },
  {
   "cell_type": "code",
   "execution_count": null,
   "metadata": {},
   "outputs": [],
   "source": [
    "# 4. 音声ファイルに変換する\n",
    "import os\n",
    "from transformers import Wav2Vec2ForCTC, Wav2Vec2Tokenizer\n",
    "\n",
    "os.makedirs(\"audio_files\", exist_ok=True)\n",
    "\n",
    "model_name = \"facebook/wav2vec2-large-xlsr-japanese\"\n",
    "tokenizer = Wav2Vec2Tokenizer.from_pretrained(model_name)\n",
    "model = Wav2Vec2ForCTC.from_pretrained(model_name)\n",
    "\n",
    "for i, ja_sentence in enumerate(ja_sentences):\n",
    "    speech = model.generate(tokenizer(ja_sentence, return_tensors=\"pt\").input_ids)\n",
    "    filename = f\"audio_files/sentence_{i}.wav\"\n",
    "    tokenizer.save_audio(speech, filename)\n",
    "    print(f\"Saved audio file: {filename}\")"
   ]
  }
 ],
 "metadata": {
  "language_info": {
   "name": "python"
  }
 },
 "nbformat": 4,
 "nbformat_minor": 2
}
